{
 "cells": [
  {
   "cell_type": "code",
   "execution_count": 9,
   "id": "93d24f1d",
   "metadata": {},
   "outputs": [
    {
     "name": "stdout",
     "output_type": "stream",
     "text": [
      "Requirement already satisfied: numpy in c:\\anakonda\\lib\\site-packages (1.21.1)\n",
      "Collecting pandas\n",
      "  Downloading pandas-1.3.1-cp38-cp38-win_amd64.whl (10.4 MB)\n",
      "Requirement already satisfied: numpy>=1.17.3 in c:\\anakonda\\lib\\site-packages (from pandas) (1.21.1)\n",
      "Requirement already satisfied: python-dateutil>=2.7.3 in c:\\anakonda\\lib\\site-packages (from pandas) (2.8.1)\n",
      "Requirement already satisfied: pytz>=2017.3 in c:\\anakonda\\lib\\site-packages (from pandas) (2021.1)\n",
      "Requirement already satisfied: six>=1.5 in c:\\anakonda\\lib\\site-packages (from python-dateutil>=2.7.3->pandas) (1.15.0)\n",
      "Installing collected packages: pandas\n",
      "Successfully installed pandas-1.3.1\n"
     ]
    }
   ],
   "source": [
    "!pip install numpy\n",
    "!pip install pandas\n",
    "import numpy as np\n",
    "import pandas as pd"
   ]
  },
  {
   "cell_type": "code",
   "execution_count": 67,
   "id": "2aaeabfe",
   "metadata": {},
   "outputs": [
    {
     "name": "stdout",
     "output_type": "stream",
     "text": [
      "0.5033603362201347\n",
      "79883\n",
      "80964\n"
     ]
    }
   ],
   "source": [
    "games = 100000\n",
    "income = 0\n",
    "lost = 0\n",
    "for i in range(games):\n",
    "    x = str(np.random.randint(0,10)) + str(np.random.randint(0,10))+str(np.random.randint(0,10))\n",
    "    if x =='777':\n",
    "           income = income + 200\n",
    "    elif x == '999':\n",
    "           income = income + 100\n",
    "    elif x == '555':\n",
    "           income = income + 50\n",
    "    elif x == '333':\n",
    "           income = income + 15\n",
    "    elif x == '111':\n",
    "           income = income + 10\n",
    "    elif int(x) % 100 ==77:\n",
    "           income = income + 5\n",
    "    elif int(x) % 10 ==7:\n",
    "           income = income + 3\n",
    "    elif int(x) % 100 ==0:\n",
    "           income = income + 2\n",
    "    elif int(x) % 10 ==0:\n",
    "           income = income + 1\n",
    "    else:\n",
    "         lost +=1\n",
    "p_monte = income/(income + lost)\n",
    "print (p_monte)\n",
    "print (lost)\n",
    "print (income)"
   ]
  },
  {
   "cell_type": "code",
   "execution_count": null,
   "id": "b9946bfd",
   "metadata": {},
   "outputs": [],
   "source": []
  }
 ],
 "metadata": {
  "kernelspec": {
   "display_name": "Python 3",
   "language": "python",
   "name": "python3"
  },
  "language_info": {
   "codemirror_mode": {
    "name": "ipython",
    "version": 3
   },
   "file_extension": ".py",
   "mimetype": "text/x-python",
   "name": "python",
   "nbconvert_exporter": "python",
   "pygments_lexer": "ipython3",
   "version": "3.8.8"
  }
 },
 "nbformat": 4,
 "nbformat_minor": 5
}
