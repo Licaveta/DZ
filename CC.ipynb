{
 "cells": [
  {
   "cell_type": "code",
   "execution_count": 16,
   "id": "93d24f1d",
   "metadata": {},
   "outputs": [
    {
     "ename": "ModuleNotFoundError",
     "evalue": "No module named 'numpy'",
     "output_type": "error",
     "traceback": [
      "\u001b[1;31m---------------------------------------------------------------------------\u001b[0m",
      "\u001b[1;31mModuleNotFoundError\u001b[0m                       Traceback (most recent call last)",
      "\u001b[1;32m<ipython-input-16-0aa0b027fcb6>\u001b[0m in \u001b[0;36m<module>\u001b[1;34m\u001b[0m\n\u001b[1;32m----> 1\u001b[1;33m \u001b[1;32mimport\u001b[0m \u001b[0mnumpy\u001b[0m \u001b[1;32mas\u001b[0m \u001b[0mnp\u001b[0m\u001b[1;33m\u001b[0m\u001b[1;33m\u001b[0m\u001b[0m\n\u001b[0m",
      "\u001b[1;31mModuleNotFoundError\u001b[0m: No module named 'numpy'"
     ]
    }
   ],
   "source": [
    "import numpy as np"
   ]
  },
  {
   "cell_type": "code",
   "execution_count": 15,
   "id": "2aaeabfe",
   "metadata": {},
   "outputs": [
    {
     "ename": "SyntaxError",
     "evalue": "invalid character in identifier (<ipython-input-15-c622556c7c71>, line 3)",
     "output_type": "error",
     "traceback": [
      "\u001b[1;36m  File \u001b[1;32m\"<ipython-input-15-c622556c7c71>\"\u001b[1;36m, line \u001b[1;32m3\u001b[0m\n\u001b[1;33m    games = 10000\u001b[0m\n\u001b[1;37m                ^\u001b[0m\n\u001b[1;31mSyntaxError\u001b[0m\u001b[1;31m:\u001b[0m invalid character in identifier\n"
     ]
    }
   ],
   "source": [
    "games = 10000\n",
    "income = 0\n",
    "lost = 0\n",
    "for i in range(games):\n",
    "    x = str(np.random.randint(0,10)) + str(np.random.randint(0,10)) + str(np.random.randint(0,10))\n",
    "    if x == '777':\n",
    "           income = income + 200\n",
    "    elif x == '999':\n",
    "           income = income + 100\n",
    "    elif x == '555':\n",
    "           income = income + 50\n",
    "    elif x == '333':\n",
    "           income = income + 15\n",
    "    elif x == '111':\n",
    "           income = income + 10\n",
    "    elif int(x) % 100 == 77:\n",
    "           income = income + 5\n",
    "    elif int(x) % 10 == 7:\n",
    "           income = income + 3\n",
    "    elif int(x) % 100 == 0:\n",
    "           income = income + 2\n",
    "    elif int(x) % 10 == 0:\n",
    "           income = income +1\n",
    "    else:\n",
    "         lost +=1\n",
    "p_monte = income / (income + lost)\n",
    "print (p_monte)\n",
    "print (lost)\n",
    "print (income)"
   ]
  }
 ],
 "metadata": {
  "kernelspec": {
   "display_name": "Python 3",
   "language": "python",
   "name": "python3"
  },
  "language_info": {
   "codemirror_mode": {
    "name": "ipython",
    "version": 3
   },
   "file_extension": ".py",
   "mimetype": "text/x-python",
   "name": "python",
   "nbconvert_exporter": "python",
   "pygments_lexer": "ipython3",
   "version": "3.8.8"
  }
 },
 "nbformat": 4,
 "nbformat_minor": 5
}
