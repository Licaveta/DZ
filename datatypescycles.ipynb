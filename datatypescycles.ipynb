{
 "cells": [
  {
   "cell_type": "code",
   "execution_count": 6,
   "id": "c2254fb7",
   "metadata": {},
   "outputs": [
    {
     "name": "stdout",
     "output_type": "stream",
     "text": [
      "t\n"
     ]
    }
   ],
   "source": [
    "word = 'testing'\n",
    "if len(word)%2 ==0:\n",
    "    print (word[len(word)//2-1:len(word)//2+1])\n",
    "else:\n",
    "    print (word[len(word)//2])"
   ]
  },
  {
   "cell_type": "code",
   "execution_count": 16,
   "id": "5f67b6bb",
   "metadata": {},
   "outputs": [
    {
     "name": "stdout",
     "output_type": "stream",
     "text": [
      "введите число: 1\n",
      "введите число: 5\n",
      "введите число: 4\n",
      "введите число: 6\n",
      "введите число: 3\n",
      "введите число: 0\n",
      "19\n"
     ]
    }
   ],
   "source": [
    "x = int(input('введите число: '))\n",
    "summa = 0\n",
    "while x!=0:\n",
    "    summa = summa + int(x)\n",
    "    x = int(input('введите число: '))\n",
    "print(summa)"
   ]
  },
  {
   "cell_type": "code",
   "execution_count": 7,
   "id": "4a3b3e23",
   "metadata": {},
   "outputs": [
    {
     "name": "stdout",
     "output_type": "stream",
     "text": [
      "Идеальные пары:\n",
      "Alex и Emma\n",
      "Arthur и Kate\n",
      "John и Kira\n",
      "Peter и Liza\n",
      "Richard и Trisha\n"
     ]
    }
   ],
   "source": [
    "boys = ['Peter', 'Alex', 'John', 'Arthur', 'Richard']\n",
    "girls = ['Kate', 'Liza', 'Kira', 'Emma', 'Trisha']\n",
    "b2 = sorted(boys)\n",
    "g2 = sorted(girls)\n",
    "date = zip(b2,g2)\n",
    "if len(boys) == len(girls):\n",
    "    print ('Идеальные пары:')\n",
    "    for name in date:\n",
    "        print (name[0], 'и', name[1])\n",
    "else:\n",
    "    print ('Внимание, кто-то может остаться без пары!')"
   ]
  },
  {
   "cell_type": "code",
   "execution_count": 41,
   "id": "32c62651",
   "metadata": {},
   "outputs": [],
   "source": [
    "countries_temperature = [\n",
    "    ['Thailand', [75.2, 77, 78.8, 73.4, 68, 75.2, 77]],\n",
    "    ['Germany', [57.2, 55.4, 59, 59, 53.6]],\n",
    "    ['Russia', [35.6, 37.4, 39.2, 41, 42.8, 39.2, 35.6]],\n",
    "    ['Poland', [50, 50, 53.6, 57.2, 55.4, 55.4]]\n",
    "]"
   ]
  },
  {
   "cell_type": "code",
   "execution_count": 74,
   "id": "3db36b71",
   "metadata": {},
   "outputs": [
    {
     "name": "stdout",
     "output_type": "stream",
     "text": [
      "Средняя температура в странах:\n",
      "Thailand - 23.9 C\n",
      "Germany - 13.8 C\n",
      "Russia - 3.7 C\n",
      "Poland - 12.0 C\n"
     ]
    }
   ],
   "source": [
    "print('Средняя температура в странах:')\n",
    "for element in countries_temperature:\n",
    "    for temp in element[1]:\n",
    "        srtemp=round((sum(element[1])/len(element[1])-32)*5/9, 1)\n",
    "    print(element[0], '-', srtemp, 'C' )"
   ]
  },
  {
   "cell_type": "code",
   "execution_count": null,
   "id": "a61367f6",
   "metadata": {},
   "outputs": [],
   "source": []
  }
 ],
 "metadata": {
  "kernelspec": {
   "display_name": "Python 3",
   "language": "python",
   "name": "python3"
  },
  "language_info": {
   "codemirror_mode": {
    "name": "ipython",
    "version": 3
   },
   "file_extension": ".py",
   "mimetype": "text/x-python",
   "name": "python",
   "nbconvert_exporter": "python",
   "pygments_lexer": "ipython3",
   "version": "3.8.8"
  }
 },
 "nbformat": 4,
 "nbformat_minor": 5
}
