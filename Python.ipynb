{
 "cells": [
  {
   "cell_type": "code",
   "execution_count": 8,
   "id": "f26c51e0",
   "metadata": {},
   "outputs": [],
   "source": [
    "phrase_1 = 'Насколько проще было бы писать программы, если бы не заказчики'\n",
    "phrase_2 = 'Насколько проще было бы писать программы, если бы не заказчики'"
   ]
  },
  {
   "cell_type": "code",
   "execution_count": 9,
   "id": "8680d1de",
   "metadata": {},
   "outputs": [
    {
     "name": "stdout",
     "output_type": "stream",
     "text": [
      "Фразы равной длины\n"
     ]
    }
   ],
   "source": [
    "if len(phrase_1) > len(phrase_2):\n",
    "   print ('фраза 1 длинее фразы 2')\n",
    "elif len(phrase_1) == len(phrase_2):\n",
    "   print ('Фразы равной длины')\n",
    "else:\n",
    "   print ('фраза 2 длинее фразы 1')"
   ]
  },
  {
   "cell_type": "code",
   "execution_count": 13,
   "id": "7138f607",
   "metadata": {},
   "outputs": [
    {
     "name": "stdout",
     "output_type": "stream",
     "text": [
      "обычный год\n"
     ]
    }
   ],
   "source": [
    "year = 1945\n",
    "if year % 4 != 0:\n",
    "    print('обычный год')\n",
    "elif year % 100 != 0:\n",
    "    print('високосный год')\n",
    "elif year % 400 != 0:\n",
    "    print('обычный год')\n",
    "else:\n",
    "    print('високосный год')"
   ]
  },
  {
   "cell_type": "code",
   "execution_count": 31,
   "id": "3cb7fc39",
   "metadata": {},
   "outputs": [
    {
     "name": "stdout",
     "output_type": "stream",
     "text": [
      "Введите день 19\n",
      "Введите месяц январь\n"
     ]
    }
   ],
   "source": [
    "day = int(input('Введите день '))\n",
    "month = str(input('Введите месяц '))"
   ]
  },
  {
   "cell_type": "code",
   "execution_count": 32,
   "id": "55912257",
   "metadata": {},
   "outputs": [
    {
     "name": "stdout",
     "output_type": "stream",
     "text": [
      "козерог\n"
     ]
    }
   ],
   "source": [
    "if (day >= 21 and month =='март') or (day <= 20 and month == 'апрель'):\n",
    "    print ('овен')\n",
    "elif (day >= 21 and month == 'апрель') or (day <= 20 and month == 'май'):\n",
    "    print ('телец')\n",
    "elif (day >= 21 and month == 'май') or (day <= 21 and month == 'июнь'):\n",
    "    print ('близнецы')\n",
    "elif (day >= 22 and month == 'июнь') or (day <= 22 and month == 'июль'):\n",
    "    print ('рак')\n",
    "elif (day >= 23 and month == 'июль') or (day <= 23 and month == 'август'):\n",
    "    print ('лев')\n",
    "elif (day >= 24 and month == 'август') or (day <= 23 and month == 'сентябрь'):\n",
    "    print ('дева')\n",
    "elif day >= 24 and month == 'сентабрь' or day <= 23 and month == 'октябрь':\n",
    "    print ('весы')\n",
    "elif day >= 24 and month == 'октябрь' or day <= 22 and month == 'ноябрь':\n",
    "    print ('скорпион')\n",
    "elif day >= 23 and month == 'ноябрь' or day <= 21 and month == 'декабрь':\n",
    "    print ('стрелец')\n",
    "elif day >= 22 and month == 'декабрь' or day <= 20 and month == 'январь':\n",
    "    print ('козерог')\n",
    "elif day >= 21 and month == 'январь' or day <= 18 and month == 'февраль':\n",
    "    print ('водолей')\n",
    "elif day >= 19 and month == 'февраль' or day <= 20 and month == 'март':\n",
    "    print ('рыбы')"
   ]
  },
  {
   "cell_type": "code",
   "execution_count": 40,
   "id": "2f37b85f",
   "metadata": {},
   "outputs": [
    {
     "name": "stdout",
     "output_type": "stream",
     "text": [
      "Стандартная коробка №3\n"
     ]
    }
   ],
   "source": [
    "width = 15\n",
    "length = 50\n",
    "height = 15\n",
    "if (width <=15) and (length <=15) and (height <=15):\n",
    "    print ('Коробка №1')\n",
    "elif (length >200):\n",
    "    print ('Упаковка для лыж')\n",
    "elif ((width >15) and (width <50)) or ((length >15) and (length <50)) or ((height >15) and (height <50)):\n",
    "    print ('Коробка №2')\n",
    "else:\n",
    "    print ('Стандартная коробка №3')"
   ]
  },
  {
   "cell_type": "code",
   "execution_count": 58,
   "id": "7c5a00e7",
   "metadata": {},
   "outputs": [
    {
     "name": "stdout",
     "output_type": "stream",
     "text": [
      "счастливый билет\n"
     ]
    }
   ],
   "source": [
    "number = 123321\n",
    "a = (number //100000) + (number //10000%10) + (number //1000%10)\n",
    "b = (number //100%10) + (number //10%10) + (number %10)\n",
    "if a == b:\n",
    "    print ('счастливый билет')\n",
    "else:\n",
    "    print ('несчастливый билет')"
   ]
  },
  {
   "cell_type": "code",
   "execution_count": null,
   "id": "0503ff64",
   "metadata": {},
   "outputs": [],
   "source": []
  }
 ],
 "metadata": {
  "kernelspec": {
   "display_name": "Python 3",
   "language": "python",
   "name": "python3"
  },
  "language_info": {
   "codemirror_mode": {
    "name": "ipython",
    "version": 3
   },
   "file_extension": ".py",
   "mimetype": "text/x-python",
   "name": "python",
   "nbconvert_exporter": "python",
   "pygments_lexer": "ipython3",
   "version": "3.8.8"
  }
 },
 "nbformat": 4,
 "nbformat_minor": 5
}
